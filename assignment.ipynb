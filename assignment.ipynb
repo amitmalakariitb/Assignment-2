{
 "cells": [
  {
   "cell_type": "code",
   "execution_count": 1,
   "id": "003c5e22",
   "metadata": {},
   "outputs": [
    {
     "name": "stdout",
     "output_type": "stream",
     "text": [
      "Average shape after processing 500 images: (29, 30)\n",
      "Average shape after processing 1000 images: (27, 29)\n",
      "Average shape after processing 1500 images: (27, 29)\n",
      "Average shape after processing 2000 images: (28, 31)\n",
      "Average shape after processing 2500 images: (27, 31)\n",
      "Average shape after processing 3000 images: (28, 32)\n",
      "Average shape after processing 3500 images: (27, 31)\n",
      "Average shape after processing 4000 images: (28, 32)\n",
      "Average shape after processing 4500 images: (28, 32)\n",
      "Average shape after processing 5000 images: (30, 34)\n",
      "Average shape after processing 5500 images: (30, 35)\n",
      "Average shape after processing 6000 images: (31, 35)\n",
      "Average shape after processing 6500 images: (32, 36)\n",
      "Final average shape of the raster images: (32, 36)\n"
     ]
    }
   ],
   "source": [
    "import os\n",
    "import rasterio\n",
    "\n",
    "data_folder = \"./prospace_assignment/prospace_assignment\"\n",
    "\n",
    "def calculate_average_shape(folder_path, batch_size=500):\n",
    "    total_rows = 0\n",
    "    total_cols = 0\n",
    "    num_images = 0\n",
    "    for idx, file_name in enumerate(os.listdir(folder_path), start=1):\n",
    "        if file_name.endswith('.tif'):\n",
    "            file_path = os.path.join(folder_path, file_name)\n",
    "            with rasterio.open(file_path) as src:\n",
    "                total_rows += src.height\n",
    "                total_cols += src.width\n",
    "                num_images += 1\n",
    "            if idx % batch_size == 0:\n",
    "                average_rows = total_rows // num_images\n",
    "                average_cols = total_cols // num_images\n",
    "                print(\"Average shape after processing {} images: ({}, {})\".format(idx, average_rows, average_cols))\n",
    "   \n",
    "    average_rows = total_rows // num_images\n",
    "    average_cols = total_cols // num_images\n",
    "    print(\"Final average shape of the raster images: ({}, {})\".format(average_rows, average_cols))\n",
    "    return (average_rows, average_cols)\n",
    "\n",
    "average_shape = calculate_average_shape(data_folder)\n"
   ]
  },
  {
   "cell_type": "code",
   "execution_count": 2,
   "id": "e68d6f77",
   "metadata": {},
   "outputs": [
    {
     "name": "stdout",
     "output_type": "stream",
     "text": [
      "Annotations saved to: annotations.csv\n"
     ]
    }
   ],
   "source": [
    "import os\n",
    "import cv2\n",
    "import csv\n",
    "import numpy as np\n",
    "\n",
    "data_folder = \"./prospace_assignment/prospace_assignment\"\n",
    "\n",
    "def classify_image(image):\n",
    "    hsv_image = cv2.cvtColor(image, cv2.COLOR_BGR2HSV)\n",
    "    green_lower = np.array([36, 25, 25])  \n",
    "    green_upper = np.array([86, 255, 255])  \n",
    "    brown_lower = np.array([10, 50, 20])  \n",
    "    brown_upper = np.array([30, 255, 200])  \n",
    "    white_lower = np.array([0, 0, 150])  \n",
    "    white_upper = np.array([180, 25, 255]) \n",
    "    \n",
    "    green_mask = cv2.inRange(hsv_image, green_lower, green_upper)\n",
    "    brown_mask = cv2.inRange(hsv_image, brown_lower, brown_upper)\n",
    "    white_mask = cv2.inRange(hsv_image, white_lower, white_upper)\n",
    "    \n",
    "    green_pixels = cv2.countNonZero(green_mask)\n",
    "    brown_pixels = cv2.countNonZero(brown_mask)\n",
    "    white_pixels = cv2.countNonZero(white_mask)\n",
    "    \n",
    "    if green_pixels > brown_pixels and green_pixels > white_pixels:\n",
    "        return 'lush'\n",
    "    elif brown_pixels > green_pixels and brown_pixels > white_pixels:\n",
    "        return 'growing'\n",
    "    else:\n",
    "        return 'no_crop'\n",
    "\n",
    "annotations = []\n",
    "\n",
    "def annotate_images(folder_path):\n",
    "    for file_name in os.listdir(folder_path):\n",
    "        if file_name.endswith('.tif'):\n",
    "            file_path = os.path.join(folder_path, file_name)\n",
    "            image = cv2.imread(file_path)\n",
    "            category = classify_image(image)\n",
    "            annotations.append((file_path, category))\n",
    "\n",
    "annotate_images(data_folder)\n",
    "\n",
    "annotations_file = \"annotations.csv\"\n",
    "\n",
    "with open(annotations_file, 'w', newline='') as csvfile:\n",
    "    writer = csv.writer(csvfile)\n",
    "    writer.writerow(['file_path', 'label'])  \n",
    "    writer.writerows(annotations)\n",
    "\n",
    "print(\"Annotations saved to:\", annotations_file)\n"
   ]
  },
  {
   "cell_type": "code",
   "execution_count": 3,
   "id": "fcc112f0",
   "metadata": {},
   "outputs": [
    {
     "name": "stdout",
     "output_type": "stream",
     "text": [
      "Annotations DataFrame:\n",
      "                                           file_path    label\n",
      "0  ./prospace_assignment/prospace_assignment\\100_...  growing\n",
      "1  ./prospace_assignment/prospace_assignment\\100_...  growing\n",
      "2  ./prospace_assignment/prospace_assignment\\100_...  growing\n",
      "3  ./prospace_assignment/prospace_assignment\\100_...  growing\n",
      "4  ./prospace_assignment/prospace_assignment\\100_...  growing\n",
      "\n",
      "Distribution of Labels:\n",
      "label\n",
      "growing    5474\n",
      "lush       1258\n",
      "no_crop      84\n",
      "Name: count, dtype: int64\n"
     ]
    }
   ],
   "source": [
    "import pandas as pd\n",
    "\n",
    "annotations_file = \"annotations.csv\"\n",
    "\n",
    "annotations_df = pd.read_csv(annotations_file)\n",
    "\n",
    "print(\"Annotations DataFrame:\")\n",
    "print(annotations_df.head())\n",
    "\n",
    "label_counts = annotations_df['label'].value_counts()\n",
    "\n",
    "print(\"\\nDistribution of Labels:\")\n",
    "print(label_counts)\n"
   ]
  },
  {
   "cell_type": "code",
   "execution_count": 4,
   "id": "6b4e6e54",
   "metadata": {},
   "outputs": [
    {
     "data": {
      "image/png": "[encoded data removed]",
      "text/plain": [
       "<Figure size 400x400 with 1 Axes>"
      ]
     },
     "metadata": {},
     "output_type": "display_data"
    },
    {
     "data": {
      "image/png": "[encoded data removed]",
      "text/plain": [
       "<Figure size 400x400 with 1 Axes>"
      ]
     },
     "metadata": {},
     "output_type": "display_data"
    },
    {
     "data": {
      "image/png": "[encoded data removed]",
      "text/plain": [
       "<Figure size 400x400 with 1 Axes>"
      ]
     },
     "metadata": {},
     "output_type": "display_data"
    }
   ],
   "source": [
    "import matplotlib.pyplot as plt\n",
    "\n",
    "def display_one_image_from_each_category(df):\n",
    "    unique_labels = df['label'].unique()\n",
    "    for label in unique_labels:\n",
    "        image_path = df[df['label'] == label].iloc[3]['file_path']\n",
    "        image = cv2.imread(image_path)\n",
    "        plt.figure(figsize=(4, 4))\n",
    "        plt.imshow(cv2.cvtColor(image, cv2.COLOR_BGR2RGB))\n",
    "        plt.title(label)\n",
    "        plt.axis('off')\n",
    "        plt.show()\n",
    "\n",
    "display_one_image_from_each_category(annotations_df)\n"
   ]
  },
  {
   "cell_type": "code",
   "execution_count": 5,
   "id": "0fe8851d",
   "metadata": {
    "scrolled": true
   },
   "outputs": [
    {
     "name": "stdout",
     "output_type": "stream",
     "text": [
      "Data type of df['processed_image']: object\n",
      "Data type of X_train: <class 'numpy.ndarray'>\n",
      "Data type of y_train: <class 'pandas.core.series.Series'>\n",
      "Shape of X_train: (5452,)\n",
      "Shape of X_test: (1364,)\n",
      "Unique values in y_train: [0 1 2]\n",
      "Number of training samples per class:\n",
      "[  65 4352 1035]\n",
      "Number of testing samples per class:\n",
      "[  19 1122  223]\n"
     ]
    }
   ],
   "source": [
    "from sklearn.model_selection import train_test_split\n",
    "def preprocess_dataset(df, target_shape=(32, 36), test_size=0.2, random_state=42):\n",
    "    # Resize and normalize images\n",
    "    def preprocess_image(image_path):\n",
    "        image = cv2.imread(image_path)\n",
    "#         print(\"Data type of image:\", type(image)) \n",
    "        image = cv2.resize(image, target_shape)\n",
    "        image = image.astype(np.float32) / 255.0\n",
    "        return image\n",
    "\n",
    "    \n",
    "    df['processed_image'] = df['file_path'].apply(preprocess_image)\n",
    "    print(\"Data type of df['processed_image']:\", df['processed_image'].dtype)  \n",
    "    df['processed_image'] = df['processed_image'].apply(lambda x: x.reshape((*target_shape, 3)))  \n",
    "    \n",
    "    label_to_int = {'no_crop': 0, 'growing': 1, 'lush': 2}\n",
    "    df['label'] = df['label'].map(label_to_int)\n",
    "    \n",
    "    \n",
    "    X_train, X_test, y_train, y_test = train_test_split(df['processed_image'].values, df['label'], test_size=test_size, random_state=random_state)\n",
    "    print(\"Data type of X_train:\", type(X_train)) \n",
    "    print(\"Data type of y_train:\", type(y_train))  \n",
    "    \n",
    "    y_train = pd.Series(y_train)\n",
    "    y_test = pd.Series(y_test)\n",
    "    \n",
    "    return np.array(X_train), np.array(X_test), y_train, y_test\n",
    "\n",
    "\n",
    "\n",
    "X_train, X_test, y_train, y_test = preprocess_dataset(annotations_df)\n",
    "\n",
    "print(\"Shape of X_train:\", X_train.shape)\n",
    "print(\"Shape of X_test:\", X_test.shape)\n",
    "print(\"Unique values in y_train:\", np.unique(y_train))ss\n",
    "\n",
    "print(\"Number of training samples per class:\")\n",
    "print(np.bincount(y_train))\n",
    "print(\"Number of testing samples per class:\")\n",
    "print(np.bincount(y_test))\n"
   ]
  },
  {
   "cell_type": "code",
   "execution_count": 6,
   "id": "384bf0e1",
   "metadata": {},
   "outputs": [
    {
     "ename": "NameError",
     "evalue": "name 'models' is not defined",
     "output_type": "error",
     "traceback": [
      "\u001b[1;31m---------------------------------------------------------------------------\u001b[0m",
      "\u001b[1;31mNameError\u001b[0m                                 Traceback (most recent call last)",
      "Cell \u001b[1;32mIn[6], line 19\u001b[0m\n\u001b[0;32m     17\u001b[0m input_shape \u001b[38;5;241m=\u001b[39m X_train[\u001b[38;5;241m0\u001b[39m]\u001b[38;5;241m.\u001b[39mshape\n\u001b[0;32m     18\u001b[0m num_classes \u001b[38;5;241m=\u001b[39m \u001b[38;5;28mlen\u001b[39m(np\u001b[38;5;241m.\u001b[39munique(y_train))\n\u001b[1;32m---> 19\u001b[0m cnn_model \u001b[38;5;241m=\u001b[39m create_cnn_model(input_shape, num_classes)\n\u001b[0;32m     21\u001b[0m \u001b[38;5;66;03m# Compile the model\u001b[39;00m\n\u001b[0;32m     22\u001b[0m cnn_model\u001b[38;5;241m.\u001b[39mcompile(optimizer\u001b[38;5;241m=\u001b[39m\u001b[38;5;124m'\u001b[39m\u001b[38;5;124madam\u001b[39m\u001b[38;5;124m'\u001b[39m,\n\u001b[0;32m     23\u001b[0m                   loss\u001b[38;5;241m=\u001b[39m\u001b[38;5;124m'\u001b[39m\u001b[38;5;124msparse_categorical_crossentropy\u001b[39m\u001b[38;5;124m'\u001b[39m,\n\u001b[0;32m     24\u001b[0m                   metrics\u001b[38;5;241m=\u001b[39m[\u001b[38;5;124m'\u001b[39m\u001b[38;5;124maccuracy\u001b[39m\u001b[38;5;124m'\u001b[39m])\n",
      "Cell \u001b[1;32mIn[6], line 2\u001b[0m, in \u001b[0;36mcreate_cnn_model\u001b[1;34m(input_shape, num_classes)\u001b[0m\n\u001b[0;32m      1\u001b[0m \u001b[38;5;28;01mdef\u001b[39;00m \u001b[38;5;21mcreate_cnn_model\u001b[39m(input_shape, num_classes):\n\u001b[1;32m----> 2\u001b[0m     model \u001b[38;5;241m=\u001b[39m models\u001b[38;5;241m.\u001b[39mSequential([\n\u001b[0;32m      3\u001b[0m         layers\u001b[38;5;241m.\u001b[39mConv2D(\u001b[38;5;241m32\u001b[39m, (\u001b[38;5;241m3\u001b[39m, \u001b[38;5;241m3\u001b[39m), activation\u001b[38;5;241m=\u001b[39m\u001b[38;5;124m'\u001b[39m\u001b[38;5;124mrelu\u001b[39m\u001b[38;5;124m'\u001b[39m, input_shape\u001b[38;5;241m=\u001b[39minput_shape),\n\u001b[0;32m      4\u001b[0m         layers\u001b[38;5;241m.\u001b[39mMaxPooling2D((\u001b[38;5;241m2\u001b[39m, \u001b[38;5;241m2\u001b[39m)),\n\u001b[0;32m      5\u001b[0m         layers\u001b[38;5;241m.\u001b[39mConv2D(\u001b[38;5;241m64\u001b[39m, (\u001b[38;5;241m3\u001b[39m, \u001b[38;5;241m3\u001b[39m), activation\u001b[38;5;241m=\u001b[39m\u001b[38;5;124m'\u001b[39m\u001b[38;5;124mrelu\u001b[39m\u001b[38;5;124m'\u001b[39m),\n\u001b[0;32m      6\u001b[0m         layers\u001b[38;5;241m.\u001b[39mMaxPooling2D((\u001b[38;5;241m2\u001b[39m, \u001b[38;5;241m2\u001b[39m)),\n\u001b[0;32m      7\u001b[0m         layers\u001b[38;5;241m.\u001b[39mConv2D(\u001b[38;5;241m128\u001b[39m, (\u001b[38;5;241m3\u001b[39m, \u001b[38;5;241m3\u001b[39m), activation\u001b[38;5;241m=\u001b[39m\u001b[38;5;124m'\u001b[39m\u001b[38;5;124mrelu\u001b[39m\u001b[38;5;124m'\u001b[39m),\n\u001b[0;32m      8\u001b[0m         layers\u001b[38;5;241m.\u001b[39mMaxPooling2D((\u001b[38;5;241m2\u001b[39m, \u001b[38;5;241m2\u001b[39m)),\n\u001b[0;32m      9\u001b[0m         layers\u001b[38;5;241m.\u001b[39mFlatten(),\n\u001b[0;32m     10\u001b[0m         layers\u001b[38;5;241m.\u001b[39mDropout(\u001b[38;5;241m0.5\u001b[39m),\n\u001b[0;32m     11\u001b[0m         layers\u001b[38;5;241m.\u001b[39mDense(\u001b[38;5;241m128\u001b[39m, activation\u001b[38;5;241m=\u001b[39m\u001b[38;5;124m'\u001b[39m\u001b[38;5;124mrelu\u001b[39m\u001b[38;5;124m'\u001b[39m),\n\u001b[0;32m     12\u001b[0m         layers\u001b[38;5;241m.\u001b[39mDense(num_classes, activation\u001b[38;5;241m=\u001b[39m\u001b[38;5;124m'\u001b[39m\u001b[38;5;124msoftmax\u001b[39m\u001b[38;5;124m'\u001b[39m)\n\u001b[0;32m     13\u001b[0m     ])\n\u001b[0;32m     14\u001b[0m     \u001b[38;5;28;01mreturn\u001b[39;00m model\n",
      "\u001b[1;31mNameError\u001b[0m: name 'models' is not defined"
     ]
    }
   ],
   "source": [
    "def create_cnn_model(input_shape, num_classes):\n",
    "    model = models.Sequential([\n",
    "        layers.Conv2D(32, (3, 3), activation='relu', input_shape=input_shape),\n",
    "        layers.MaxPooling2D((2, 2)),\n",
    "        layers.Conv2D(64, (3, 3), activation='relu'),\n",
    "        layers.MaxPooling2D((2, 2)),\n",
    "        layers.Conv2D(128, (3, 3), activation='relu'),\n",
    "        layers.MaxPooling2D((2, 2)),\n",
    "        layers.Flatten(),\n",
    "        layers.Dropout(0.5),\n",
    "        layers.Dense(128, activation='relu'),\n",
    "        layers.Dense(num_classes, activation='softmax')\n",
    "    ])\n",
    "    return model\n",
    "\n",
    "input_shape = X_train[0].shape\n",
    "num_classes = len(np.unique(y_train))\n",
    "cnn_model = create_cnn_model(input_shape, num_classes)\n",
    "\n",
    "cnn_model.compile(optimizer='adam',\n",
    "                  loss='sparse_categorical_crossentropy',\n",
    "                  metrics=['accuracy'])\n",
    "\n",
    "history = cnn_model.fit(X_train, y_train,\n",
    "                        epochs=20,\n",
    "                        batch_size=32,\n",
    "                        validation_data=(X_test, y_test))\n",
    "\n",
    "test_loss, test_accuracy = cnn_model.evaluate(X_test, y_test)\n",
    "print(\"Test Accuracy:\", test_accuracy)\n",
    "\n",
    "cnn_model.save(\"crop_growth_stage_model.h5\")"
   ]
  },
  {
   "cell_type": "code",
   "execution_count": null,
   "id": "ef49f43b",
   "metadata": {},
   "outputs": [],
   "source": []
  }
 ],
 "metadata": {
  "kernelspec": {
   "display_name": "Python 3 (ipykernel)",
   "language": "python",
   "name": "python3"
  },
  "language_info": {
   "codemirror_mode": {
    "name": "ipython",
    "version": 3
   },
   "file_extension": ".py",
   "mimetype": "text/x-python",
   "name": "python",
   "nbconvert_exporter": "python",
   "pygments_lexer": "ipython3",
   "version": "3.11.5"
  }
 },
 "nbformat": 4,
 "nbformat_minor": 5
}
